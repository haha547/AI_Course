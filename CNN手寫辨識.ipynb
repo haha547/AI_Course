{
 "cells": [
  {
   "cell_type": "code",
   "execution_count": 1,
   "metadata": {},
   "outputs": [
    {
     "name": "stderr",
     "output_type": "stream",
     "text": [
      "Using TensorFlow backend.\n"
     ]
    }
   ],
   "source": [
    "from keras.datasets import mnist  \n",
    "from keras.utils import np_utils  \n",
    "import numpy as np  \n",
    "np.random.seed(10)  \n",
    "  \n",
    "# Read MNIST data  \n",
    "(X_Train, y_Train), (X_Test, y_Test) = mnist.load_data()  \n",
    "  \n",
    "# Translation of data  \n",
    "X_Train40 = X_Train.reshape(X_Train.shape[0], 28, 28, 1).astype('float32')  \n",
    "X_Test40 = X_Test.reshape(X_Test.shape[0], 28, 28, 1).astype('float32')  "
   ]
  },
  {
   "cell_type": "code",
   "execution_count": 2,
   "metadata": {},
   "outputs": [],
   "source": [
    "# Standardize feature data  \n",
    "X_Train40_norm = X_Train40 / 255  \n",
    "X_Test40_norm = X_Test40 /255  \n",
    "  \n",
    "# Label Onehot-encoding  \n",
    "y_TrainOneHot = np_utils.to_categorical(y_Train)  \n",
    "y_TestOneHot = np_utils.to_categorical(y_Test)  "
   ]
  },
  {
   "cell_type": "code",
   "execution_count": 3,
   "metadata": {},
   "outputs": [],
   "source": [
    "from keras.models import Sequential  \n",
    "from keras.layers import Dense,Dropout,Flatten,Conv2D,MaxPooling2D  \n",
    "  \n",
    "model = Sequential()  \n",
    "# Create CN layer 1  \n",
    "model.add(Conv2D(filters=16,  \n",
    "                 kernel_size=(5,5),  \n",
    "                 padding='same',  \n",
    "                 input_shape=(28,28,1),  \n",
    "                 activation='relu'))  \n",
    "# Create Max-Pool 1  \n",
    "model.add(MaxPooling2D(pool_size=(2,2)))  \n",
    "  \n",
    "# Create CN layer 2  \n",
    "model.add(Conv2D(filters=36,  \n",
    "                 kernel_size=(5,5),  \n",
    "                 padding='same',  \n",
    "                 input_shape=(28,28,1),  \n",
    "                 activation='relu'))  \n",
    "  \n",
    "# Create Max-Pool 2  \n",
    "model.add(MaxPooling2D(pool_size=(2,2)))  \n",
    "  \n",
    "# Add Dropout layer  \n",
    "model.add(Dropout(0.25))  "
   ]
  },
  {
   "cell_type": "code",
   "execution_count": 4,
   "metadata": {},
   "outputs": [
    {
     "name": "stdout",
     "output_type": "stream",
     "text": [
      "_________________________________________________________________\n",
      "Layer (type)                 Output Shape              Param #   \n",
      "=================================================================\n",
      "conv2d_1 (Conv2D)            (None, 28, 28, 16)        416       \n",
      "_________________________________________________________________\n",
      "max_pooling2d_1 (MaxPooling2 (None, 14, 14, 16)        0         \n",
      "_________________________________________________________________\n",
      "conv2d_2 (Conv2D)            (None, 14, 14, 36)        14436     \n",
      "_________________________________________________________________\n",
      "max_pooling2d_2 (MaxPooling2 (None, 7, 7, 36)          0         \n",
      "_________________________________________________________________\n",
      "dropout_1 (Dropout)          (None, 7, 7, 36)          0         \n",
      "_________________________________________________________________\n",
      "flatten_1 (Flatten)          (None, 1764)              0         \n",
      "_________________________________________________________________\n",
      "dense_1 (Dense)              (None, 128)               225920    \n",
      "_________________________________________________________________\n",
      "dropout_2 (Dropout)          (None, 128)               0         \n",
      "_________________________________________________________________\n",
      "dense_2 (Dense)              (None, 10)                1290      \n",
      "=================================================================\n",
      "Total params: 242,062\n",
      "Trainable params: 242,062\n",
      "Non-trainable params: 0\n",
      "_________________________________________________________________\n",
      "\n"
     ]
    }
   ],
   "source": [
    "model.add(Flatten())  \n",
    "model.add(Dense(128, activation='relu'))  \n",
    "model.add(Dropout(0.5))  \n",
    "model.add(Dense(10, activation='softmax'))  \n",
    "model.summary()  \n",
    "print(\"\")"
   ]
  },
  {
   "cell_type": "code",
   "execution_count": 17,
   "metadata": {},
   "outputs": [
    {
     "name": "stdout",
     "output_type": "stream",
     "text": [
      "Train on 54000 samples, validate on 6000 samples\n",
      "Epoch 1/10\n",
      " - 35s - loss: 0.0448 - acc: 0.9863 - val_loss: 0.0267 - val_acc: 0.9922\n",
      "Epoch 2/10\n",
      " - 35s - loss: 0.0399 - acc: 0.9875 - val_loss: 0.0263 - val_acc: 0.9922\n",
      "Epoch 3/10\n",
      " - 35s - loss: 0.0383 - acc: 0.9886 - val_loss: 0.0253 - val_acc: 0.9927\n",
      "Epoch 4/10\n",
      " - 33s - loss: 0.0340 - acc: 0.9892 - val_loss: 0.0284 - val_acc: 0.9913\n",
      "Epoch 5/10\n",
      " - 34s - loss: 0.0312 - acc: 0.9901 - val_loss: 0.0267 - val_acc: 0.9927\n",
      "Epoch 6/10\n",
      " - 34s - loss: 0.0298 - acc: 0.9905 - val_loss: 0.0236 - val_acc: 0.9930\n",
      "Epoch 7/10\n",
      " - 33s - loss: 0.0272 - acc: 0.9911 - val_loss: 0.0265 - val_acc: 0.9933\n",
      "Epoch 8/10\n",
      " - 35s - loss: 0.0257 - acc: 0.9916 - val_loss: 0.0278 - val_acc: 0.9923\n",
      "Epoch 9/10\n",
      " - 34s - loss: 0.0258 - acc: 0.9921 - val_loss: 0.0239 - val_acc: 0.9938\n",
      "Epoch 10/10\n",
      " - 34s - loss: 0.0217 - acc: 0.9934 - val_loss: 0.0274 - val_acc: 0.9930\n"
     ]
    }
   ],
   "source": [
    "# 定義訓練方式  \n",
    "model.compile(loss='categorical_crossentropy', optimizer='adam', metrics=['accuracy'])  \n",
    "  \n",
    "# 開始訓練  \n",
    "train_history = model.fit(x=X_Train40_norm,  \n",
    "                          y=y_TrainOneHot, validation_split=0.1,  \n",
    "                          epochs=10, batch_size=300, verbose=2)  "
   ]
  },
  {
   "cell_type": "code",
   "execution_count": 18,
   "metadata": {},
   "outputs": [],
   "source": [
    "import os  \n",
    "  \n",
    "def isDisplayAvl():  \n",
    "    return 'DISPLAY' in os.environ.keys()  \n",
    "  \n",
    "import matplotlib.pyplot as plt  \n",
    "def plot_image(image):  \n",
    "    fig = plt.gcf()  \n",
    "    fig.set_size_inches(2,2)  \n",
    "    plt.imshow(image, cmap='binary')  \n",
    "    plt.show()  \n",
    "  \n",
    "def plot_images_labels_predict(images, labels, prediction, idx, num=10):  \n",
    "    fig = plt.gcf()  \n",
    "    fig.set_size_inches(12, 14)  \n",
    "    if num > 25: num = 25  \n",
    "    for i in range(0, num):  \n",
    "        ax=plt.subplot(5,5, 1+i)  \n",
    "        ax.imshow(images[idx], cmap='binary')  \n",
    "        title = \"l=\" + str(labels[idx])  \n",
    "        if len(prediction) > 0:  \n",
    "            title = \"l={},p={}\".format(str(labels[idx]), str(prediction[idx]))  \n",
    "        else:  \n",
    "            title = \"l={}\".format(str(labels[idx]))  \n",
    "        ax.set_title(title, fontsize=10)  \n",
    "        ax.set_xticks([]); ax.set_yticks([])  \n",
    "        idx+=1  \n",
    "    plt.show()  \n",
    "  \n",
    "def show_train_history(train_history, train, validation):  \n",
    "    plt.plot(train_history.history[train])  \n",
    "    plt.plot(train_history.history[validation])  \n",
    "    plt.title('Train History')  \n",
    "    plt.ylabel(train)  \n",
    "    plt.xlabel('Epoch')  \n",
    "    plt.legend(['train', 'validation'], loc='upper left')  \n",
    "    plt.show()  "
   ]
  },
  {
   "cell_type": "code",
   "execution_count": 19,
   "metadata": {},
   "outputs": [
    {
     "data": {
      "image/png": "[encoded data removed]",
      "text/plain": [
       "<Figure size 432x288 with 1 Axes>"
      ]
     },
     "metadata": {
      "needs_background": "light"
     },
     "output_type": "display_data"
    },
    {
     "data": {
      "image/png": "[encoded data removed]",
      "text/plain": [
       "<Figure size 432x288 with 1 Axes>"
      ]
     },
     "metadata": {
      "needs_background": "light"
     },
     "output_type": "display_data"
    }
   ],
   "source": [
    " \n",
    "if isDisplayAvl():  \n",
    "    show_train_history(train_history, 'acc', 'val_acc')  \n",
    "    show_train_history(train_history, 'loss', 'val_loss')  \n"
   ]
  },
  {
   "cell_type": "code",
   "execution_count": 20,
   "metadata": {},
   "outputs": [
    {
     "name": "stdout",
     "output_type": "stream",
     "text": [
      "10000/10000 [==============================] - 2s 233us/step\n",
      "\n",
      "\t[Info] Accuracy of testing data = 99.3%\n"
     ]
    }
   ],
   "source": [
    "scores = model.evaluate(X_Test40_norm, y_TestOneHot)  \n",
    "print()  \n",
    "print(\"\\t[Info] Accuracy of testing data = {:2.1f}%\".format(scores[1]*100.0))  \n"
   ]
  },
  {
   "cell_type": "code",
   "execution_count": 21,
   "metadata": {},
   "outputs": [
    {
     "name": "stdout",
     "output_type": "stream",
     "text": [
      "\t[Info] Making prediction of X_Test4D_norm\n",
      "\n",
      "\t[Info] Show 10 prediction result (From 240):\n",
      "[5 9 8 7 2 3 0 2 4 2]\n",
      "\n"
     ]
    }
   ],
   "source": [
    "print(\"\\t[Info] Making prediction of X_Test4D_norm\")  \n",
    "prediction = model.predict_classes(X_Test40_norm)  # Making prediction and save result to prediction  \n",
    "print()  \n",
    "print(\"\\t[Info] Show 10 prediction result (From 240):\")  \n",
    "print(\"%s\\n\" % (prediction[240:250]))  "
   ]
  },
  {
   "cell_type": "code",
   "execution_count": 22,
   "metadata": {},
   "outputs": [
    {
     "data": {
      "image/png": "[encoded data removed]",
      "text/plain": [
       "<Figure size 864x1008 with 10 Axes>"
      ]
     },
     "metadata": {},
     "output_type": "display_data"
    }
   ],
   "source": [
    "if isDisplayAvl():  \n",
    "    plot_images_labels_predict(X_Test, y_Test, prediction, idx=240)  \n"
   ]
  },
  {
   "cell_type": "code",
   "execution_count": 15,
   "metadata": {},
   "outputs": [
    {
     "name": "stdout",
     "output_type": "stream",
     "text": [
      "\t[Info] Display Confusion Matrix:\n",
      "predict    0     1     2     3    4    5    6     7    8    9\n",
      "label                                                        \n",
      "0        976     1     0     0    0    0    2     1    0    0\n",
      "1          0  1130     1     0    0    1    1     1    1    0\n",
      "2          3     1  1025     0    1    0    0     2    0    0\n",
      "3          0     0     0  1004    0    3    0     2    1    0\n",
      "4          0     0     0     0  976    0    1     1    0    4\n",
      "5          1     1     0     6    0  880    2     1    0    1\n",
      "6          5     2     0     0    3    1  947     0    0    0\n",
      "7          0     2     4     2    0    0    0  1017    1    2\n",
      "8          4     0     3     2    1    2    0     2  957    3\n",
      "9          1     3     0     2    5    1    0     3    0  994\n",
      "\n"
     ]
    }
   ],
   "source": [
    "import pandas as pd  \n",
    "print(\"\\t[Info] Display Confusion Matrix:\")  \n",
    "print(\"%s\\n\" % pd.crosstab(y_Test, prediction, rownames=['label'], colnames=['predict']))  \n"
   ]
  },
  {
   "cell_type": "code",
   "execution_count": null,
   "metadata": {},
   "outputs": [],
   "source": []
  }
 ],
 "metadata": {
  "kernelspec": {
   "display_name": "Python 3",
   "language": "python",
   "name": "python3"
  },
  "language_info": {
   "codemirror_mode": {
    "name": "ipython",
    "version": 3
   },
   "file_extension": ".py",
   "mimetype": "text/x-python",
   "name": "python",
   "nbconvert_exporter": "python",
   "pygments_lexer": "ipython3",
   "version": "3.6.7"
  }
 },
 "nbformat": 4,
 "nbformat_minor": 2
}
